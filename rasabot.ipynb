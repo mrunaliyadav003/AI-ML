{
  "cells": [
    {
      "cell_type": "markdown",
      "metadata": {
        "id": "view-in-github",
        "colab_type": "text"
      },
      "source": [
        "<a href=\"https://colab.research.google.com/github/mrunaliyadav003/AI-ML/blob/main/rasabot.ipynb\" target=\"_parent\"><img src=\"https://colab.research.google.com/assets/colab-badge.svg\" alt=\"Open In Colab\"/></a>"
      ]
    },
    {
      "cell_type": "code",
      "execution_count": null,
      "metadata": {
        "colab": {
          "base_uri": "https://localhost:8080/"
        },
        "id": "od8PbVudlJo0",
        "outputId": "2f5d8f84-a666-4c2a-b2f1-c74ad12eb73b"
      },
      "outputs": [
        {
          "name": "stdout",
          "output_type": "stream",
          "text": [
            "Collecting virtualenv\n",
            "  Downloading virtualenv-20.25.3-py3-none-any.whl (3.9 MB)\n",
            "\u001b[2K     \u001b[90m━━━━━━━━━━━━━━━━━━━━━━━━━━━━━━━━━━━━━━━━\u001b[0m \u001b[32m3.9/3.9 MB\u001b[0m \u001b[31m13.4 MB/s\u001b[0m eta \u001b[36m0:00:00\u001b[0m\n",
            "\u001b[?25hCollecting distlib<1,>=0.3.7 (from virtualenv)\n",
            "  Downloading distlib-0.3.8-py2.py3-none-any.whl (468 kB)\n",
            "\u001b[2K     \u001b[90m━━━━━━━━━━━━━━━━━━━━━━━━━━━━━━━━━━━━━━━━\u001b[0m \u001b[32m468.9/468.9 kB\u001b[0m \u001b[31m33.8 MB/s\u001b[0m eta \u001b[36m0:00:00\u001b[0m\n",
            "\u001b[?25hRequirement already satisfied: filelock<4,>=3.12.2 in /usr/local/lib/python3.10/dist-packages (from virtualenv) (3.13.4)\n",
            "Requirement already satisfied: platformdirs<5,>=3.9.1 in /usr/local/lib/python3.10/dist-packages (from virtualenv) (4.2.0)\n",
            "Installing collected packages: distlib, virtualenv\n",
            "Successfully installed distlib-0.3.8 virtualenv-20.25.3\n"
          ]
        }
      ],
      "source": [
        "!pip install virtualenv\n"
      ]
    },
    {
      "cell_type": "code",
      "execution_count": null,
      "metadata": {
        "colab": {
          "base_uri": "https://localhost:8080/"
        },
        "id": "P9VnSvftllGS",
        "outputId": "e5d5f24d-f3d2-4845-efed-6257180eeb24"
      },
      "outputs": [
        {
          "name": "stdout",
          "output_type": "stream",
          "text": [
            "Reading package lists... Done\n",
            "Building dependency tree... Done\n",
            "Reading state information... Done\n",
            "The following additional packages will be installed:\n",
            "  python3-pip-whl python3-setuptools-whl\n",
            "The following NEW packages will be installed:\n",
            "  python3-pip-whl python3-setuptools-whl python3.10-venv\n",
            "0 upgraded, 3 newly installed, 0 to remove and 45 not upgraded.\n",
            "Need to get 2,473 kB of archives.\n",
            "After this operation, 2,884 kB of additional disk space will be used.\n",
            "Get:1 http://archive.ubuntu.com/ubuntu jammy-updates/universe amd64 python3-pip-whl all 22.0.2+dfsg-1ubuntu0.4 [1,680 kB]\n",
            "Get:2 http://archive.ubuntu.com/ubuntu jammy-updates/universe amd64 python3-setuptools-whl all 59.6.0-1.2ubuntu0.22.04.1 [788 kB]\n",
            "Get:3 http://archive.ubuntu.com/ubuntu jammy-updates/universe amd64 python3.10-venv amd64 3.10.12-1~22.04.3 [5,716 B]\n",
            "Fetched 2,473 kB in 0s (5,788 kB/s)\n",
            "Selecting previously unselected package python3-pip-whl.\n",
            "(Reading database ... 131015 files and directories currently installed.)\n",
            "Preparing to unpack .../python3-pip-whl_22.0.2+dfsg-1ubuntu0.4_all.deb ...\n",
            "Unpacking python3-pip-whl (22.0.2+dfsg-1ubuntu0.4) ...\n",
            "Selecting previously unselected package python3-setuptools-whl.\n",
            "Preparing to unpack .../python3-setuptools-whl_59.6.0-1.2ubuntu0.22.04.1_all.deb ...\n",
            "Unpacking python3-setuptools-whl (59.6.0-1.2ubuntu0.22.04.1) ...\n",
            "Selecting previously unselected package python3.10-venv.\n",
            "Preparing to unpack .../python3.10-venv_3.10.12-1~22.04.3_amd64.deb ...\n",
            "Unpacking python3.10-venv (3.10.12-1~22.04.3) ...\n",
            "Setting up python3-setuptools-whl (59.6.0-1.2ubuntu0.22.04.1) ...\n",
            "Setting up python3-pip-whl (22.0.2+dfsg-1ubuntu0.4) ...\n",
            "Setting up python3.10-venv (3.10.12-1~22.04.3) ...\n"
          ]
        }
      ],
      "source": [
        "!apt install python3.10-venv"
      ]
    },
    {
      "cell_type": "code",
      "execution_count": null,
      "metadata": {
        "id": "g5ATwES3lY2B"
      },
      "outputs": [],
      "source": [
        "!python -m venv env"
      ]
    },
    {
      "cell_type": "code",
      "execution_count": null,
      "metadata": {
        "colab": {
          "base_uri": "https://localhost:8080/"
        },
        "id": "30vsztUglu7K",
        "outputId": "364bdc2c-8e6a-493f-c625-6bca8a11e59a"
      },
      "outputs": [
        {
          "name": "stdout",
          "output_type": "stream",
          "text": [
            "/content/env\n"
          ]
        }
      ],
      "source": [
        "cd env"
      ]
    },
    {
      "cell_type": "code",
      "source": [
        "!pip uninstall rasa -y"
      ],
      "metadata": {
        "colab": {
          "base_uri": "https://localhost:8080/"
        },
        "id": "Ic8e8svZgwFn",
        "outputId": "2173ae21-48fc-4304-b9be-cff8980ee042"
      },
      "execution_count": 40,
      "outputs": [
        {
          "output_type": "stream",
          "name": "stdout",
          "text": [
            "Found existing installation: rasa 3.6.20\n",
            "Uninstalling rasa-3.6.20:\n",
            "  Successfully uninstalled rasa-3.6.20\n"
          ]
        }
      ]
    },
    {
      "cell_type": "code",
      "source": [
        "!pip install rasa"
      ],
      "metadata": {
        "colab": {
          "base_uri": "https://localhost:8080/"
        },
        "id": "msTOuTpYgyXh",
        "outputId": "a654a01d-7930-48ac-bc63-9056792bc04c"
      },
      "execution_count": 41,
      "outputs": [
        {
          "output_type": "stream",
          "name": "stdout",
          "text": [
            "Collecting rasa\n",
            "  Using cached rasa-3.6.20-py3-none-any.whl (838 kB)\n",
            "Requirement already satisfied: CacheControl<0.13.0,>=0.12.9 in /usr/local/lib/python3.10/dist-packages (from rasa) (0.12.14)\n",
            "Requirement already satisfied: PyJWT[crypto]<3.0.0,>=2.0.0 in /usr/lib/python3/dist-packages (from rasa) (2.3.0)\n",
            "Requirement already satisfied: SQLAlchemy<1.5.0,>=1.4.0 in /usr/local/lib/python3.10/dist-packages (from rasa) (1.4.52)\n",
            "Requirement already satisfied: absl-py<1.5,>=0.9 in /usr/local/lib/python3.10/dist-packages (from rasa) (1.4.0)\n",
            "Requirement already satisfied: aio-pika<8.2.4,>=6.7.1 in /usr/local/lib/python3.10/dist-packages (from rasa) (8.2.3)\n",
            "Requirement already satisfied: aiogram<2.26 in /usr/local/lib/python3.10/dist-packages (from rasa) (2.15)\n",
            "Requirement already satisfied: aiohttp<3.10,>=3.9.0 in /usr/local/lib/python3.10/dist-packages (from rasa) (3.9.5)\n",
            "Requirement already satisfied: apscheduler<3.10,>=3.6 in /usr/local/lib/python3.10/dist-packages (from rasa) (3.9.1.post1)\n",
            "Requirement already satisfied: attrs<22.2,>=19.3 in /usr/local/lib/python3.10/dist-packages (from rasa) (22.1.0)\n",
            "Requirement already satisfied: boto3<2.0.0,>=1.26.136 in /usr/local/lib/python3.10/dist-packages (from rasa) (1.34.88)\n",
            "Requirement already satisfied: certifi>=2023.7.22 in /usr/local/lib/python3.10/dist-packages (from rasa) (2024.2.2)\n",
            "Requirement already satisfied: cloudpickle<2.3,>=1.2 in /usr/local/lib/python3.10/dist-packages (from rasa) (2.2.1)\n",
            "Requirement already satisfied: colorclass<2.3,>=2.2 in /usr/local/lib/python3.10/dist-packages (from rasa) (2.2.2)\n",
            "Requirement already satisfied: coloredlogs<16,>=10 in /usr/local/lib/python3.10/dist-packages (from rasa) (15.0.1)\n",
            "Requirement already satisfied: colorhash<1.3.0,>=1.0.2 in /usr/local/lib/python3.10/dist-packages (from rasa) (1.2.1)\n",
            "Requirement already satisfied: confluent-kafka<3.0.0,>=1.9.2 in /usr/local/lib/python3.10/dist-packages (from rasa) (2.3.0)\n",
            "Requirement already satisfied: cryptography>=41.0.7 in /usr/local/lib/python3.10/dist-packages (from rasa) (42.0.5)\n",
            "Requirement already satisfied: dask==2022.10.2 in /usr/local/lib/python3.10/dist-packages (from rasa) (2022.10.2)\n",
            "Requirement already satisfied: dnspython==2.3.0 in /usr/local/lib/python3.10/dist-packages (from rasa) (2.3.0)\n",
            "Requirement already satisfied: fbmessenger<6.1.0,>=6.0.0 in /usr/local/lib/python3.10/dist-packages (from rasa) (6.0.0)\n",
            "Requirement already satisfied: google-auth<3 in /usr/local/lib/python3.10/dist-packages (from rasa) (2.27.0)\n",
            "Requirement already satisfied: joblib<1.3.0,>=0.15.1 in /usr/local/lib/python3.10/dist-packages (from rasa) (1.2.0)\n",
            "Requirement already satisfied: jsonpickle<3.1,>=1.3 in /usr/local/lib/python3.10/dist-packages (from rasa) (3.0.4)\n",
            "Requirement already satisfied: jsonschema<4.18,>=3.2 in /usr/local/lib/python3.10/dist-packages (from rasa) (4.17.3)\n",
            "Requirement already satisfied: matplotlib<3.6,>=3.1 in /usr/local/lib/python3.10/dist-packages (from rasa) (3.5.3)\n",
            "Requirement already satisfied: mattermostwrapper<2.3,>=2.2 in /usr/local/lib/python3.10/dist-packages (from rasa) (2.2)\n",
            "Requirement already satisfied: networkx<2.7,>=2.4 in /usr/local/lib/python3.10/dist-packages (from rasa) (2.6.3)\n",
            "Requirement already satisfied: numpy<1.25.0,>=1.19.2 in /usr/local/lib/python3.10/dist-packages (from rasa) (1.23.5)\n",
            "Requirement already satisfied: packaging<21.0,>=20.0 in /usr/local/lib/python3.10/dist-packages (from rasa) (20.9)\n",
            "Requirement already satisfied: pluggy<2.0.0,>=1.0.0 in /usr/local/lib/python3.10/dist-packages (from rasa) (1.4.0)\n",
            "Requirement already satisfied: portalocker<3.0.0,>=2.7.0 in /usr/local/lib/python3.10/dist-packages (from rasa) (2.8.2)\n",
            "Requirement already satisfied: prompt-toolkit<3.0.29,>=3.0 in /usr/local/lib/python3.10/dist-packages (from rasa) (3.0.28)\n",
            "Requirement already satisfied: protobuf<4.23.4,>=4.23.3 in /usr/local/lib/python3.10/dist-packages (from rasa) (4.23.3)\n",
            "Requirement already satisfied: psycopg2-binary<2.10.0,>=2.8.2 in /usr/local/lib/python3.10/dist-packages (from rasa) (2.9.9)\n",
            "Requirement already satisfied: pydantic<1.10.10 in /usr/local/lib/python3.10/dist-packages (from rasa) (1.10.9)\n",
            "Requirement already satisfied: pydot<1.5,>=1.4 in /usr/local/lib/python3.10/dist-packages (from rasa) (1.4.2)\n",
            "Requirement already satisfied: pykwalify<1.9,>=1.7 in /usr/local/lib/python3.10/dist-packages (from rasa) (1.8.0)\n",
            "Requirement already satisfied: pymongo[srv,tls]<4.4,>=3.8 in /usr/local/lib/python3.10/dist-packages (from rasa) (4.3.3)\n",
            "Requirement already satisfied: python-dateutil<2.9,>=2.8 in /usr/local/lib/python3.10/dist-packages (from rasa) (2.8.2)\n",
            "Requirement already satisfied: python-engineio!=5.0.0,<6,>=4 in /usr/local/lib/python3.10/dist-packages (from rasa) (4.9.0)\n",
            "Requirement already satisfied: python-socketio<6,>=4.4 in /usr/local/lib/python3.10/dist-packages (from rasa) (5.11.2)\n",
            "Requirement already satisfied: pytz<2023.0,>=2019.1 in /usr/local/lib/python3.10/dist-packages (from rasa) (2022.7.1)\n",
            "Requirement already satisfied: pyyaml>=6.0 in /usr/local/lib/python3.10/dist-packages (from rasa) (6.0.1)\n",
            "Requirement already satisfied: questionary<1.11.0,>=1.5.1 in /usr/local/lib/python3.10/dist-packages (from rasa) (1.10.0)\n",
            "Requirement already satisfied: randomname<0.2.0,>=0.1.5 in /usr/local/lib/python3.10/dist-packages (from rasa) (0.1.5)\n",
            "Requirement already satisfied: rasa-sdk<3.7.0,>=3.6.2 in /usr/local/lib/python3.10/dist-packages (from rasa) (3.6.2)\n",
            "Requirement already satisfied: redis<5.0,>=4.5.3 in /usr/local/lib/python3.10/dist-packages (from rasa) (4.6.0)\n",
            "Requirement already satisfied: regex<2022.11,>=2020.6 in /usr/local/lib/python3.10/dist-packages (from rasa) (2022.10.31)\n",
            "Requirement already satisfied: requests<3.0,>=2.23 in /usr/local/lib/python3.10/dist-packages (from rasa) (2.31.0)\n",
            "Requirement already satisfied: rocketchat_API<1.31.0,>=0.6.31 in /usr/local/lib/python3.10/dist-packages (from rasa) (1.30.0)\n",
            "Requirement already satisfied: ruamel.yaml<0.17.22,>=0.16.5 in /usr/local/lib/python3.10/dist-packages (from rasa) (0.17.21)\n",
            "Requirement already satisfied: sanic<21.13,>=21.12 in /usr/local/lib/python3.10/dist-packages (from rasa) (21.12.2)\n",
            "Requirement already satisfied: sanic-cors<2.1.0,>=2.0.0 in /usr/local/lib/python3.10/dist-packages (from rasa) (2.0.1)\n",
            "Requirement already satisfied: sanic-jwt<2.0.0,>=1.6.0 in /usr/local/lib/python3.10/dist-packages (from rasa) (1.8.0)\n",
            "Requirement already satisfied: sanic-routing<0.8.0,>=0.7.2 in /usr/local/lib/python3.10/dist-packages (from rasa) (0.7.2)\n",
            "Requirement already satisfied: scikit-learn<1.2,>=0.22 in /usr/local/lib/python3.10/dist-packages (from rasa) (1.1.3)\n",
            "Requirement already satisfied: scipy<1.11.0,>=1.10.0 in /usr/local/lib/python3.10/dist-packages (from rasa) (1.10.1)\n",
            "Requirement already satisfied: sentry-sdk<1.15.0,>=0.17.0 in /usr/local/lib/python3.10/dist-packages (from rasa) (1.14.0)\n",
            "Requirement already satisfied: setuptools>=65.5.1 in /usr/local/lib/python3.10/dist-packages (from rasa) (67.7.2)\n",
            "Requirement already satisfied: sklearn-crfsuite<0.4,>=0.3 in /usr/local/lib/python3.10/dist-packages (from rasa) (0.3.6)\n",
            "Requirement already satisfied: slack-sdk<4.0.0,>=3.19.2 in /usr/local/lib/python3.10/dist-packages (from rasa) (3.27.1)\n",
            "Requirement already satisfied: structlog<24.0.0,>=23.1.0 in /usr/local/lib/python3.10/dist-packages (from rasa) (23.3.0)\n",
            "Requirement already satisfied: structlog-sentry<3.0.0,>=2.0.2 in /usr/local/lib/python3.10/dist-packages (from rasa) (2.1.0)\n",
            "Requirement already satisfied: tarsafe<0.0.5,>=0.0.3 in /usr/local/lib/python3.10/dist-packages (from rasa) (0.0.4)\n",
            "Requirement already satisfied: tensorflow==2.12.0 in /usr/local/lib/python3.10/dist-packages (from rasa) (2.12.0)\n",
            "Requirement already satisfied: tensorflow-io-gcs-filesystem==0.32 in /usr/local/lib/python3.10/dist-packages (from rasa) (0.32.0)\n",
            "Requirement already satisfied: tensorflow-text==2.12.0 in /usr/local/lib/python3.10/dist-packages (from rasa) (2.12.0)\n",
            "Requirement already satisfied: tensorflow_hub<0.14.0,>=0.13.0 in /usr/local/lib/python3.10/dist-packages (from rasa) (0.13.0)\n",
            "Requirement already satisfied: terminaltables<3.2.0,>=3.1.0 in /usr/local/lib/python3.10/dist-packages (from rasa) (3.1.10)\n",
            "Requirement already satisfied: tqdm<5.0,>=4.31 in /usr/local/lib/python3.10/dist-packages (from rasa) (4.66.2)\n",
            "Requirement already satisfied: twilio<8.3,>=6.26 in /usr/local/lib/python3.10/dist-packages (from rasa) (8.2.2)\n",
            "Requirement already satisfied: typing-extensions<5.0.0,>=4.1.1 in /usr/local/lib/python3.10/dist-packages (from rasa) (4.11.0)\n",
            "Requirement already satisfied: typing-utils<0.2.0,>=0.1.0 in /usr/local/lib/python3.10/dist-packages (from rasa) (0.1.0)\n",
            "Requirement already satisfied: ujson<6.0,>=1.35 in /usr/local/lib/python3.10/dist-packages (from rasa) (5.9.0)\n",
            "Requirement already satisfied: webexteamssdk<1.7.0,>=1.1.1 in /usr/local/lib/python3.10/dist-packages (from rasa) (1.6.1)\n",
            "Requirement already satisfied: websockets<11.0,>=10.0 in /usr/local/lib/python3.10/dist-packages (from rasa) (10.4)\n",
            "Requirement already satisfied: wheel>=0.38.1 in /usr/local/lib/python3.10/dist-packages (from rasa) (0.43.0)\n",
            "Requirement already satisfied: click>=7.0 in /usr/local/lib/python3.10/dist-packages (from dask==2022.10.2->rasa) (8.1.7)\n",
            "Requirement already satisfied: fsspec>=0.6.0 in /usr/local/lib/python3.10/dist-packages (from dask==2022.10.2->rasa) (2023.6.0)\n",
            "Requirement already satisfied: partd>=0.3.10 in /usr/local/lib/python3.10/dist-packages (from dask==2022.10.2->rasa) (1.4.1)\n",
            "Requirement already satisfied: toolz>=0.8.2 in /usr/local/lib/python3.10/dist-packages (from dask==2022.10.2->rasa) (0.12.1)\n",
            "Requirement already satisfied: astunparse>=1.6.0 in /usr/local/lib/python3.10/dist-packages (from tensorflow==2.12.0->rasa) (1.6.3)\n",
            "Requirement already satisfied: flatbuffers>=2.0 in /usr/local/lib/python3.10/dist-packages (from tensorflow==2.12.0->rasa) (24.3.25)\n",
            "Requirement already satisfied: gast<=0.4.0,>=0.2.1 in /usr/local/lib/python3.10/dist-packages (from tensorflow==2.12.0->rasa) (0.4.0)\n",
            "Requirement already satisfied: google-pasta>=0.1.1 in /usr/local/lib/python3.10/dist-packages (from tensorflow==2.12.0->rasa) (0.2.0)\n",
            "Requirement already satisfied: grpcio<2.0,>=1.24.3 in /usr/local/lib/python3.10/dist-packages (from tensorflow==2.12.0->rasa) (1.62.1)\n",
            "Requirement already satisfied: h5py>=2.9.0 in /usr/local/lib/python3.10/dist-packages (from tensorflow==2.12.0->rasa) (3.9.0)\n",
            "Requirement already satisfied: jax>=0.3.15 in /usr/local/lib/python3.10/dist-packages (from tensorflow==2.12.0->rasa) (0.4.26)\n",
            "Requirement already satisfied: keras<2.13,>=2.12.0 in /usr/local/lib/python3.10/dist-packages (from tensorflow==2.12.0->rasa) (2.12.0)\n",
            "Requirement already satisfied: libclang>=13.0.0 in /usr/local/lib/python3.10/dist-packages (from tensorflow==2.12.0->rasa) (18.1.1)\n",
            "Requirement already satisfied: opt-einsum>=2.3.2 in /usr/local/lib/python3.10/dist-packages (from tensorflow==2.12.0->rasa) (3.3.0)\n",
            "Requirement already satisfied: six>=1.12.0 in /usr/local/lib/python3.10/dist-packages (from tensorflow==2.12.0->rasa) (1.16.0)\n",
            "Requirement already satisfied: tensorboard<2.13,>=2.12 in /usr/local/lib/python3.10/dist-packages (from tensorflow==2.12.0->rasa) (2.12.3)\n",
            "Requirement already satisfied: tensorflow-estimator<2.13,>=2.12.0 in /usr/local/lib/python3.10/dist-packages (from tensorflow==2.12.0->rasa) (2.12.0)\n",
            "Requirement already satisfied: termcolor>=1.1.0 in /usr/local/lib/python3.10/dist-packages (from tensorflow==2.12.0->rasa) (2.4.0)\n",
            "Requirement already satisfied: wrapt<1.15,>=1.11.0 in /usr/local/lib/python3.10/dist-packages (from tensorflow==2.12.0->rasa) (1.14.1)\n",
            "Requirement already satisfied: aiormq~=6.4.0 in /usr/local/lib/python3.10/dist-packages (from aio-pika<8.2.4,>=6.7.1->rasa) (6.4.2)\n",
            "Requirement already satisfied: yarl in /usr/local/lib/python3.10/dist-packages (from aio-pika<8.2.4,>=6.7.1->rasa) (1.9.4)\n",
            "Requirement already satisfied: Babel>=2.8.0 in /usr/local/lib/python3.10/dist-packages (from aiogram<2.26->rasa) (2.14.0)\n",
            "Requirement already satisfied: aiosignal>=1.1.2 in /usr/local/lib/python3.10/dist-packages (from aiohttp<3.10,>=3.9.0->rasa) (1.3.1)\n",
            "Requirement already satisfied: frozenlist>=1.1.1 in /usr/local/lib/python3.10/dist-packages (from aiohttp<3.10,>=3.9.0->rasa) (1.4.1)\n",
            "Requirement already satisfied: multidict<7.0,>=4.5 in /usr/local/lib/python3.10/dist-packages (from aiohttp<3.10,>=3.9.0->rasa) (5.2.0)\n",
            "Requirement already satisfied: async-timeout<5.0,>=4.0 in /usr/local/lib/python3.10/dist-packages (from aiohttp<3.10,>=3.9.0->rasa) (4.0.3)\n",
            "Requirement already satisfied: tzlocal!=3.*,>=2.0 in /usr/local/lib/python3.10/dist-packages (from apscheduler<3.10,>=3.6->rasa) (5.2)\n",
            "Requirement already satisfied: botocore<1.35.0,>=1.34.88 in /usr/local/lib/python3.10/dist-packages (from boto3<2.0.0,>=1.26.136->rasa) (1.34.88)\n",
            "Requirement already satisfied: jmespath<2.0.0,>=0.7.1 in /usr/local/lib/python3.10/dist-packages (from boto3<2.0.0,>=1.26.136->rasa) (1.0.1)\n",
            "Requirement already satisfied: s3transfer<0.11.0,>=0.10.0 in /usr/local/lib/python3.10/dist-packages (from boto3<2.0.0,>=1.26.136->rasa) (0.10.1)\n",
            "Requirement already satisfied: msgpack>=0.5.2 in /usr/local/lib/python3.10/dist-packages (from CacheControl<0.13.0,>=0.12.9->rasa) (1.0.8)\n",
            "Requirement already satisfied: humanfriendly>=9.1 in /usr/local/lib/python3.10/dist-packages (from coloredlogs<16,>=10->rasa) (10.0)\n",
            "Requirement already satisfied: cffi>=1.12 in /usr/local/lib/python3.10/dist-packages (from cryptography>=41.0.7->rasa) (1.16.0)\n",
            "Requirement already satisfied: cachetools<6.0,>=2.0.0 in /usr/local/lib/python3.10/dist-packages (from google-auth<3->rasa) (5.3.3)\n",
            "Requirement already satisfied: pyasn1-modules>=0.2.1 in /usr/local/lib/python3.10/dist-packages (from google-auth<3->rasa) (0.4.0)\n",
            "Requirement already satisfied: rsa<5,>=3.1.4 in /usr/local/lib/python3.10/dist-packages (from google-auth<3->rasa) (4.9)\n",
            "Requirement already satisfied: pyrsistent!=0.17.0,!=0.17.1,!=0.17.2,>=0.14.0 in /usr/local/lib/python3.10/dist-packages (from jsonschema<4.18,>=3.2->rasa) (0.20.0)\n",
            "Requirement already satisfied: cycler>=0.10 in /usr/local/lib/python3.10/dist-packages (from matplotlib<3.6,>=3.1->rasa) (0.12.1)\n",
            "Requirement already satisfied: fonttools>=4.22.0 in /usr/local/lib/python3.10/dist-packages (from matplotlib<3.6,>=3.1->rasa) (4.51.0)\n",
            "Requirement already satisfied: kiwisolver>=1.0.1 in /usr/local/lib/python3.10/dist-packages (from matplotlib<3.6,>=3.1->rasa) (1.4.5)\n",
            "Requirement already satisfied: pillow>=6.2.0 in /usr/local/lib/python3.10/dist-packages (from matplotlib<3.6,>=3.1->rasa) (9.4.0)\n",
            "Requirement already satisfied: pyparsing>=2.2.1 in /usr/local/lib/python3.10/dist-packages (from matplotlib<3.6,>=3.1->rasa) (3.1.2)\n",
            "Requirement already satisfied: wcwidth in /usr/local/lib/python3.10/dist-packages (from prompt-toolkit<3.0.29,>=3.0->rasa) (0.2.13)\n",
            "Requirement already satisfied: docopt>=0.6.2 in /usr/local/lib/python3.10/dist-packages (from pykwalify<1.9,>=1.7->rasa) (0.6.2)\n",
            "Requirement already satisfied: simple-websocket>=0.10.0 in /usr/local/lib/python3.10/dist-packages (from python-engineio!=5.0.0,<6,>=4->rasa) (1.0.0)\n",
            "Requirement already satisfied: bidict>=0.21.0 in /usr/local/lib/python3.10/dist-packages (from python-socketio<6,>=4.4->rasa) (0.23.1)\n",
            "Requirement already satisfied: fire in /usr/local/lib/python3.10/dist-packages (from randomname<0.2.0,>=0.1.5->rasa) (0.6.0)\n",
            "Requirement already satisfied: charset-normalizer<4,>=2 in /usr/local/lib/python3.10/dist-packages (from requests<3.0,>=2.23->rasa) (3.3.2)\n",
            "Requirement already satisfied: idna<4,>=2.5 in /usr/local/lib/python3.10/dist-packages (from requests<3.0,>=2.23->rasa) (3.7)\n",
            "Requirement already satisfied: urllib3<3,>=1.21.1 in /usr/local/lib/python3.10/dist-packages (from requests<3.0,>=2.23->rasa) (2.0.7)\n",
            "Requirement already satisfied: ruamel.yaml.clib>=0.2.6 in /usr/local/lib/python3.10/dist-packages (from ruamel.yaml<0.17.22,>=0.16.5->rasa) (0.2.8)\n",
            "Requirement already satisfied: httptools>=0.0.10 in /usr/local/lib/python3.10/dist-packages (from sanic<21.13,>=21.12->rasa) (0.6.1)\n",
            "Requirement already satisfied: aiofiles>=0.6.0 in /usr/local/lib/python3.10/dist-packages (from sanic<21.13,>=21.12->rasa) (23.2.1)\n",
            "Requirement already satisfied: uvloop>=0.5.3 in /usr/local/lib/python3.10/dist-packages (from sanic<21.13,>=21.12->rasa) (0.19.0)\n",
            "Requirement already satisfied: threadpoolctl>=2.0.0 in /usr/local/lib/python3.10/dist-packages (from scikit-learn<1.2,>=0.22->rasa) (3.4.0)\n",
            "Requirement already satisfied: python-crfsuite>=0.8.3 in /usr/local/lib/python3.10/dist-packages (from sklearn-crfsuite<0.4,>=0.3->rasa) (0.9.10)\n",
            "Requirement already satisfied: tabulate in /usr/local/lib/python3.10/dist-packages (from sklearn-crfsuite<0.4,>=0.3->rasa) (0.9.0)\n",
            "Requirement already satisfied: greenlet!=0.4.17 in /usr/local/lib/python3.10/dist-packages (from SQLAlchemy<1.5.0,>=1.4.0->rasa) (3.0.3)\n",
            "Requirement already satisfied: aiohttp-retry>=2.8.3 in /usr/local/lib/python3.10/dist-packages (from twilio<8.3,>=6.26->rasa) (2.8.3)\n",
            "Requirement already satisfied: future in /usr/local/lib/python3.10/dist-packages (from webexteamssdk<1.7.0,>=1.1.1->rasa) (0.18.3)\n",
            "Requirement already satisfied: requests-toolbelt in /usr/local/lib/python3.10/dist-packages (from webexteamssdk<1.7.0,>=1.1.1->rasa) (1.0.0)\n",
            "Requirement already satisfied: pamqp==3.2.1 in /usr/local/lib/python3.10/dist-packages (from aiormq~=6.4.0->aio-pika<8.2.4,>=6.7.1->rasa) (3.2.1)\n",
            "Requirement already satisfied: pycparser in /usr/local/lib/python3.10/dist-packages (from cffi>=1.12->cryptography>=41.0.7->rasa) (2.22)\n",
            "Requirement already satisfied: ml-dtypes>=0.2.0 in /usr/local/lib/python3.10/dist-packages (from jax>=0.3.15->tensorflow==2.12.0->rasa) (0.2.0)\n",
            "Requirement already satisfied: locket in /usr/local/lib/python3.10/dist-packages (from partd>=0.3.10->dask==2022.10.2->rasa) (1.0.0)\n",
            "Requirement already satisfied: pyasn1<0.7.0,>=0.4.6 in /usr/local/lib/python3.10/dist-packages (from pyasn1-modules>=0.2.1->google-auth<3->rasa) (0.6.0)\n",
            "Requirement already satisfied: wsproto in /usr/local/lib/python3.10/dist-packages (from simple-websocket>=0.10.0->python-engineio!=5.0.0,<6,>=4->rasa) (1.2.0)\n",
            "Requirement already satisfied: google-auth-oauthlib<1.1,>=0.5 in /usr/local/lib/python3.10/dist-packages (from tensorboard<2.13,>=2.12->tensorflow==2.12.0->rasa) (1.0.0)\n",
            "Requirement already satisfied: markdown>=2.6.8 in /usr/local/lib/python3.10/dist-packages (from tensorboard<2.13,>=2.12->tensorflow==2.12.0->rasa) (3.6)\n",
            "Requirement already satisfied: tensorboard-data-server<0.8.0,>=0.7.0 in /usr/local/lib/python3.10/dist-packages (from tensorboard<2.13,>=2.12->tensorflow==2.12.0->rasa) (0.7.2)\n",
            "Requirement already satisfied: werkzeug>=1.0.1 in /usr/local/lib/python3.10/dist-packages (from tensorboard<2.13,>=2.12->tensorflow==2.12.0->rasa) (3.0.2)\n",
            "Requirement already satisfied: requests-oauthlib>=0.7.0 in /usr/local/lib/python3.10/dist-packages (from google-auth-oauthlib<1.1,>=0.5->tensorboard<2.13,>=2.12->tensorflow==2.12.0->rasa) (1.3.1)\n",
            "Requirement already satisfied: MarkupSafe>=2.1.1 in /usr/local/lib/python3.10/dist-packages (from werkzeug>=1.0.1->tensorboard<2.13,>=2.12->tensorflow==2.12.0->rasa) (2.1.5)\n",
            "Requirement already satisfied: h11<1,>=0.9.0 in /usr/local/lib/python3.10/dist-packages (from wsproto->simple-websocket>=0.10.0->python-engineio!=5.0.0,<6,>=4->rasa) (0.14.0)\n",
            "Requirement already satisfied: oauthlib>=3.0.0 in /usr/local/lib/python3.10/dist-packages (from requests-oauthlib>=0.7.0->google-auth-oauthlib<1.1,>=0.5->tensorboard<2.13,>=2.12->tensorflow==2.12.0->rasa) (3.2.2)\n",
            "Installing collected packages: rasa\n",
            "Successfully installed rasa-3.6.20\n"
          ]
        }
      ]
    },
    {
      "cell_type": "code",
      "execution_count": null,
      "metadata": {
        "colab": {
          "base_uri": "https://localhost:8080/"
        },
        "id": "nUuz2CNVmx0a",
        "outputId": "30838674-2e32-48b2-bc36-b9d4937a5ee5"
      },
      "outputs": [
        {
          "metadata": {
            "tags": null
          },
          "name": "stdout",
          "output_type": "stream",
          "text": [
            "/usr/local/lib/python3.10/dist-packages/rasa/core/tracker_store.py:1044: MovedIn20Warning: \u001b[31mDeprecated API features detected! These feature(s) are not compatible with SQLAlchemy 2.0. \u001b[32mTo prevent incompatible upgrades prior to updating applications, ensure requirements files are pinned to \"sqlalchemy<2.0\". \u001b[36mSet environment variable SQLALCHEMY_WARN_20=1 to show all deprecation warnings.  Set environment variable SQLALCHEMY_SILENCE_UBER_WARNING=1 to silence this message.\u001b[0m (Background on SQLAlchemy 2.0 at: https://sqlalche.me/e/b8d9)\n",
            "  Base: DeclarativeMeta = declarative_base()\n",
            "/usr/local/lib/python3.10/dist-packages/pkg_resources/__init__.py:121: DeprecationWarning: pkg_resources is deprecated as an API\n",
            "  warnings.warn(\"pkg_resources is deprecated as an API\", DeprecationWarning)\n",
            "/usr/local/lib/python3.10/dist-packages/pkg_resources/__init__.py:2870: DeprecationWarning: Deprecated call to `pkg_resources.declare_namespace('google')`.\n",
            "Implementing implicit namespace packages (as specified in PEP 420) is preferred to `pkg_resources.declare_namespace`. See https://setuptools.pypa.io/en/latest/references/keywords.html#keyword-namespace-packages\n",
            "  declare_namespace(pkg)\n",
            "/usr/local/lib/python3.10/dist-packages/pkg_resources/__init__.py:2870: DeprecationWarning: Deprecated call to `pkg_resources.declare_namespace('google.cloud')`.\n",
            "Implementing implicit namespace packages (as specified in PEP 420) is preferred to `pkg_resources.declare_namespace`. See https://setuptools.pypa.io/en/latest/references/keywords.html#keyword-namespace-packages\n",
            "  declare_namespace(pkg)\n",
            "/usr/local/lib/python3.10/dist-packages/pkg_resources/__init__.py:2870: DeprecationWarning: Deprecated call to `pkg_resources.declare_namespace('mpl_toolkits')`.\n",
            "Implementing implicit namespace packages (as specified in PEP 420) is preferred to `pkg_resources.declare_namespace`. See https://setuptools.pypa.io/en/latest/references/keywords.html#keyword-namespace-packages\n",
            "  declare_namespace(pkg)\n",
            "/usr/local/lib/python3.10/dist-packages/pkg_resources/__init__.py:2870: DeprecationWarning: Deprecated call to `pkg_resources.declare_namespace('ruamel')`.\n",
            "Implementing implicit namespace packages (as specified in PEP 420) is preferred to `pkg_resources.declare_namespace`. See https://setuptools.pypa.io/en/latest/references/keywords.html#keyword-namespace-packages\n",
            "  declare_namespace(pkg)\n",
            "/usr/local/lib/python3.10/dist-packages/pkg_resources/__init__.py:2870: DeprecationWarning: Deprecated call to `pkg_resources.declare_namespace('sphinxcontrib')`.\n",
            "Implementing implicit namespace packages (as specified in PEP 420) is preferred to `pkg_resources.declare_namespace`. See https://setuptools.pypa.io/en/latest/references/keywords.html#keyword-namespace-packages\n",
            "  declare_namespace(pkg)\n",
            "\u001b[92mWelcome to Rasa! 🤖\n",
            "\u001b[0m\n",
            "To get started quickly, an initial project will be created.\n",
            "If you need some help, check out the documentation at https://rasa.com/docs/rasa.\n",
            "Now let's start! 👇🏽\n",
            "\n",
            "\u001b[79Ct\u001b[0m\n",
            "\u001b[0;1mory]\u001b[4D\u001b[5C\u001b[?7h\u001b[0m\u001b[?12l\u001b[?25h\u001b[5D\u001b[A\u001b[J\u001b[0m\u001b[?7h\u001b[?2004lWARNING: your terminal doesn't support cursor position requests (CPR).\n",
            "\u001b[79Ct\u001b[0m\n",
            "\u001b[0;1mory]\u001b[4D\u001b[5C\u001b[?7h\u001b[0m\u001b[?12l\u001b[?25h"
          ]
        }
      ],
      "source": [
        "!rasa init"
      ]
    },
    {
      "cell_type": "code",
      "source": [
        "cd /content/actions"
      ],
      "metadata": {
        "colab": {
          "base_uri": "https://localhost:8080/"
        },
        "id": "wDuANbv3IV71",
        "outputId": "f3e8797c-c99c-40b2-964f-353473947228"
      },
      "execution_count": 31,
      "outputs": [
        {
          "output_type": "stream",
          "name": "stdout",
          "text": [
            "/content/actions\n"
          ]
        },
        {
          "output_type": "stream",
          "name": "stderr",
          "text": [
            "/usr/local/lib/python3.10/dist-packages/ipykernel/ipkernel.py:283: DeprecationWarning: `should_run_async` will not call `transform_cell` automatically in the future. Please pass the result to `transformed_cell` argument and any exception that happen during thetransform in `preprocessing_exc_tuple` in IPython 7.17 and above.\n",
            "  and should_run_async(code)\n"
          ]
        }
      ]
    },
    {
      "cell_type": "code",
      "source": [
        "# !python /content/actions/nlu_training.py"
      ],
      "metadata": {
        "colab": {
          "base_uri": "https://localhost:8080/"
        },
        "id": "wHltWbq0PtIJ",
        "outputId": "de8afbc0-8afc-4dcd-8e7c-08c70758500b"
      },
      "execution_count": 5,
      "outputs": [
        {
          "output_type": "stream",
          "name": "stdout",
          "text": [
            "Traceback (most recent call last):\n",
            "  File \"/content/actions/nlu_training.py\", line 1, in <module>\n",
            "    from rasa.nlu.training_data import load_data\n",
            "ModuleNotFoundError: No module named 'rasa.nlu.training_data'\n"
          ]
        }
      ]
    },
    {
      "cell_type": "code",
      "source": [
        "%run /content/actions/nlu_training.py"
      ],
      "metadata": {
        "colab": {
          "base_uri": "https://localhost:8080/",
          "height": 211
        },
        "id": "0L0F_G5qRhxC",
        "outputId": "3d81cd91-767a-41b6-8e51-ef393b6543d6"
      },
      "execution_count": 34,
      "outputs": [
        {
          "output_type": "error",
          "ename": "ModuleNotFoundError",
          "evalue": "No module named 'rasa.engine.storage.config_factory'",
          "traceback": [
            "\u001b[0;31m---------------------------------------------------------------------------\u001b[0m",
            "\u001b[0;31mModuleNotFoundError\u001b[0m                       Traceback (most recent call last)",
            "\u001b[0;32m/content/actions/nlu_training.py\u001b[0m in \u001b[0;36m<module>\u001b[0;34m\u001b[0m\n\u001b[1;32m      2\u001b[0m \u001b[0;32mfrom\u001b[0m \u001b[0mrasa\u001b[0m\u001b[0;34m.\u001b[0m\u001b[0mengine\u001b[0m\u001b[0;34m.\u001b[0m\u001b[0mstorage\u001b[0m\u001b[0;34m.\u001b[0m\u001b[0mresource\u001b[0m \u001b[0;32mimport\u001b[0m \u001b[0mResource\u001b[0m\u001b[0;34m\u001b[0m\u001b[0;34m\u001b[0m\u001b[0m\n\u001b[1;32m      3\u001b[0m \u001b[0;32mfrom\u001b[0m \u001b[0mrasa\u001b[0m\u001b[0;34m.\u001b[0m\u001b[0mengine\u001b[0m\u001b[0;34m.\u001b[0m\u001b[0mstorage\u001b[0m\u001b[0;34m.\u001b[0m\u001b[0mstorage\u001b[0m \u001b[0;32mimport\u001b[0m \u001b[0mModelStorage\u001b[0m\u001b[0;34m\u001b[0m\u001b[0;34m\u001b[0m\u001b[0m\n\u001b[0;32m----> 4\u001b[0;31m \u001b[0;32mfrom\u001b[0m \u001b[0mrasa\u001b[0m\u001b[0;34m.\u001b[0m\u001b[0mengine\u001b[0m\u001b[0;34m.\u001b[0m\u001b[0mstorage\u001b[0m\u001b[0;34m.\u001b[0m\u001b[0mconfig_factory\u001b[0m \u001b[0;32mimport\u001b[0m \u001b[0mRasaNLUModelConfig\u001b[0m\u001b[0;34m\u001b[0m\u001b[0;34m\u001b[0m\u001b[0m\n\u001b[0m\u001b[1;32m      5\u001b[0m \u001b[0;32mfrom\u001b[0m \u001b[0mrasa\u001b[0m\u001b[0;34m.\u001b[0m\u001b[0mnlu\u001b[0m\u001b[0;34m.\u001b[0m\u001b[0mcomponents\u001b[0m \u001b[0;32mimport\u001b[0m \u001b[0mComponentBuilder\u001b[0m\u001b[0;34m\u001b[0m\u001b[0;34m\u001b[0m\u001b[0m\n\u001b[1;32m      6\u001b[0m \u001b[0;32mfrom\u001b[0m \u001b[0mrasa\u001b[0m\u001b[0;34m.\u001b[0m\u001b[0mnlu\u001b[0m\u001b[0;34m.\u001b[0m\u001b[0mmodel\u001b[0m \u001b[0;32mimport\u001b[0m \u001b[0mTrainer\u001b[0m\u001b[0;34m\u001b[0m\u001b[0;34m\u001b[0m\u001b[0m\n",
            "\u001b[0;31mModuleNotFoundError\u001b[0m: No module named 'rasa.engine.storage.config_factory'"
          ]
        }
      ]
    },
    {
      "cell_type": "code",
      "source": [
        "!pip show rasa"
      ],
      "metadata": {
        "colab": {
          "base_uri": "https://localhost:8080/"
        },
        "id": "4C6Y40B4SNrD",
        "outputId": "01fc6317-f7ba-40bf-848d-71e0c48f4fbe"
      },
      "execution_count": 7,
      "outputs": [
        {
          "output_type": "stream",
          "name": "stdout",
          "text": [
            "Name: rasa\n",
            "Version: 3.6.20\n",
            "Summary: Open source machine learning framework to automate text- and voice-based conversations: NLU, dialogue management, connect to Slack, Facebook, and more - Create chatbots and voice assistants\n",
            "Home-page: https://rasa.com\n",
            "Author: Rasa Technologies GmbH\n",
            "Author-email: hi@rasa.com\n",
            "License: Apache-2.0\n",
            "Location: /usr/local/lib/python3.10/dist-packages\n",
            "Requires: absl-py, aio-pika, aiogram, aiohttp, apscheduler, attrs, boto3, CacheControl, certifi, cloudpickle, colorclass, coloredlogs, colorhash, confluent-kafka, cryptography, dask, dnspython, fbmessenger, google-auth, joblib, jsonpickle, jsonschema, matplotlib, mattermostwrapper, networkx, numpy, packaging, pluggy, portalocker, prompt-toolkit, protobuf, psycopg2-binary, pydantic, pydot, PyJWT, pykwalify, pymongo, python-dateutil, python-engineio, python-socketio, pytz, pyyaml, questionary, randomname, rasa-sdk, redis, regex, requests, rocketchat_API, ruamel.yaml, sanic, sanic-cors, sanic-jwt, sanic-routing, scikit-learn, scipy, sentry-sdk, setuptools, sklearn-crfsuite, slack-sdk, SQLAlchemy, structlog, structlog-sentry, tarsafe, tensorflow, tensorflow-io-gcs-filesystem, tensorflow-text, tensorflow_hub, terminaltables, tqdm, twilio, typing-extensions, typing-utils, ujson, webexteamssdk, websockets, wheel\n",
            "Required-by: \n"
          ]
        }
      ]
    },
    {
      "cell_type": "code",
      "source": [
        "from rasa.shared.nlu.training_data.loading import load_data\n",
        "from rasa.nlu.model import Trainer\n",
        "from rasa.nlu import config\n",
        "\n",
        "# Load your NLU training data\n",
        "training_data = load_data(\"/content/data/IwantChats.yaml\")\n",
        "\n",
        "# Define your pipeline components\n",
        "pipeline = [\n",
        "    \"SpacyNLP\",\n",
        "    \"SpacyTokenizer\",\n",
        "    \"SpacyFeaturizer\",\n",
        "    \"RegexFeaturizer\",\n",
        "    \"CRFEntityExtractor\",\n",
        "    \"DIETClassifier\"\n",
        "]\n",
        "\n",
        "# Create a configuration for the NLU model\n",
        "configuration = config.load(\"config.yml\")\n",
        "\n",
        "# Train the NLU model\n",
        "trainer = Trainer(config=configuration)\n",
        "interpreter = trainer.train(training_data)\n",
        "\n",
        "# Save the trained model\n",
        "model_path = \"models/nlu\"\n",
        "interpreter.persist(model_path)"
      ],
      "metadata": {
        "id": "Ol6QPsyCUhdC"
      },
      "execution_count": null,
      "outputs": []
    },
    {
      "cell_type": "code",
      "source": [
        "version: \"3.1\"\n",
        "\n",
        "nlu:\n",
        "- intent: greet\n",
        "  examples: |\n",
        "    - Hey\n",
        "    - Hi\n",
        "    - hey there [Sara](name)\n",
        "\n",
        "- intent: faq/language\n",
        "  examples: |\n",
        "    - What language do you speak?\n",
        "    - Do you only handle english?\n",
        "\n",
        "stories:\n",
        "- story: greet and faq\n",
        "  steps:\n",
        "  - intent: greet\n",
        "  - action: utter_greet\n",
        "  - intent: faq\n",
        "  - action: utter_faq\n",
        "\n",
        "rules:\n",
        "- rule: Greet user\n",
        "  steps:\n",
        "  - intent: greet\n",
        "  - action: utter_greet\n"
      ],
      "metadata": {
        "id": "sTh1HlNbbl5O"
      },
      "execution_count": null,
      "outputs": []
    },
    {
      "cell_type": "code",
      "source": [
        "from rasa.shared.nlu.training_data.loading import load_data\n",
        "from rasa.nlu import config\n",
        "from rasa.nlu.model import Interpreter\n",
        "from rasa.nlu.train import train\n",
        "\n",
        "# Load your NLU training data\n",
        "training_data = load_data('/content/data/IwantChats.yaml')\n",
        "\n",
        "# Define your NLU configuration (update with your desired settings)\n",
        "configuration = config.load('/content/config.yml')\n",
        "\n",
        "# Train the NLU model\n",
        "interpreter = train(configuration, training_data)\n",
        "\n",
        "# Save the trained model to a specified directory\n",
        "model_directory = '/content/models/trainedmodel'\n",
        "interpreter.persist(model_directory)"
      ],
      "metadata": {
        "colab": {
          "base_uri": "https://localhost:8080/",
          "height": 401
        },
        "id": "8J45tt5efOxY",
        "outputId": "d9ffb0eb-e52d-4b34-e76a-6f3aabffb4c6"
      },
      "execution_count": 39,
      "outputs": [
        {
          "output_type": "error",
          "ename": "ImportError",
          "evalue": "cannot import name 'config' from 'rasa.nlu' (/usr/local/lib/python3.10/dist-packages/rasa/nlu/__init__.py)",
          "traceback": [
            "\u001b[0;31m---------------------------------------------------------------------------\u001b[0m",
            "\u001b[0;31mImportError\u001b[0m                               Traceback (most recent call last)",
            "\u001b[0;32m<ipython-input-39-cdf8356bc166>\u001b[0m in \u001b[0;36m<cell line: 2>\u001b[0;34m()\u001b[0m\n\u001b[1;32m      1\u001b[0m \u001b[0;32mfrom\u001b[0m \u001b[0mrasa\u001b[0m\u001b[0;34m.\u001b[0m\u001b[0mshared\u001b[0m\u001b[0;34m.\u001b[0m\u001b[0mnlu\u001b[0m\u001b[0;34m.\u001b[0m\u001b[0mtraining_data\u001b[0m\u001b[0;34m.\u001b[0m\u001b[0mloading\u001b[0m \u001b[0;32mimport\u001b[0m \u001b[0mload_data\u001b[0m\u001b[0;34m\u001b[0m\u001b[0;34m\u001b[0m\u001b[0m\n\u001b[0;32m----> 2\u001b[0;31m \u001b[0;32mfrom\u001b[0m \u001b[0mrasa\u001b[0m\u001b[0;34m.\u001b[0m\u001b[0mnlu\u001b[0m \u001b[0;32mimport\u001b[0m \u001b[0mconfig\u001b[0m\u001b[0;34m\u001b[0m\u001b[0;34m\u001b[0m\u001b[0m\n\u001b[0m\u001b[1;32m      3\u001b[0m \u001b[0;32mfrom\u001b[0m \u001b[0mrasa\u001b[0m\u001b[0;34m.\u001b[0m\u001b[0mnlu\u001b[0m\u001b[0;34m.\u001b[0m\u001b[0mmodel\u001b[0m \u001b[0;32mimport\u001b[0m \u001b[0mInterpreter\u001b[0m\u001b[0;34m\u001b[0m\u001b[0;34m\u001b[0m\u001b[0m\n\u001b[1;32m      4\u001b[0m \u001b[0;32mfrom\u001b[0m \u001b[0mrasa\u001b[0m\u001b[0;34m.\u001b[0m\u001b[0mnlu\u001b[0m\u001b[0;34m.\u001b[0m\u001b[0mtrain\u001b[0m \u001b[0;32mimport\u001b[0m \u001b[0mtrain\u001b[0m\u001b[0;34m\u001b[0m\u001b[0;34m\u001b[0m\u001b[0m\n\u001b[1;32m      5\u001b[0m \u001b[0;34m\u001b[0m\u001b[0m\n",
            "\u001b[0;31mImportError\u001b[0m: cannot import name 'config' from 'rasa.nlu' (/usr/local/lib/python3.10/dist-packages/rasa/nlu/__init__.py)",
            "",
            "\u001b[0;31m---------------------------------------------------------------------------\u001b[0;32m\nNOTE: If your import is failing due to a missing package, you can\nmanually install dependencies using either !pip or !apt.\n\nTo view examples of installing some common dependencies, click the\n\"Open Examples\" button below.\n\u001b[0;31m---------------------------------------------------------------------------\u001b[0m\n"
          ],
          "errorDetails": {
            "actions": [
              {
                "action": "open_url",
                "actionText": "Open Examples",
                "url": "/notebooks/snippets/importing_libraries.ipynb"
              }
            ]
          }
        }
      ]
    }
  ],
  "metadata": {
    "colab": {
      "provenance": [],
      "authorship_tag": "ABX9TyOQzzHFUqaUYj3WuOu/ih9b",
      "include_colab_link": true
    },
    "kernelspec": {
      "display_name": "Python 3",
      "name": "python3"
    },
    "language_info": {
      "name": "python"
    }
  },
  "nbformat": 4,
  "nbformat_minor": 0
}